{
 "cells": [
  {
   "cell_type": "markdown",
   "id": "8c4128d8",
   "metadata": {},
   "source": [
    "# We Rate Dogs Data Wrangling poroject."
   ]
  },
  {
   "cell_type": "markdown",
   "id": "00556a29",
   "metadata": {},
   "source": [
    "## Gathering Data "
   ]
  },
  {
   "cell_type": "markdown",
   "id": "52d8ec94",
   "metadata": {},
   "source": [
    "I started my project by downloading the ‘twitter-archive-enhanced.csv’ file manually. Then, created a folder named 'image_predictions' before I downloaded ‘image-predictions.tsv’ programmatically from Udacity's server using the requests library. Next, I wrote it into image_predictions.tsv\n",
    "\n",
    "‘twitter_data’ was created by accessing and downloading Twitter’s JSON data using the tweepy library. Firstly, I extracted a list of tweet ID from the ‘twitter-archive-enhanced.csv’ file, then looped through each ID and query Twitter’s API with the ID to get each tweet’s JSON data. Subsequently, I recorded the data in a text file named ‘tweet-json.txt’, with each tweet’s data written in a new line. After the query was completed and all the data was\n",
    "written in the text file, I read the text file line by line, obtained each tweet’s information (tweet ID, retweet count, favorite count, and followers count) using the json library, and appended the information into an empty list.\n",
    "Finally, I convert the list of dictionaries to a pandas DataFrame and saved it into ‘twitter_data’\n",
    "\n",
    "I started my assignment by manually downloading the file 'twitter-archive-enhanced.csv'. Then I created a folder named 'image_predictions' before downloading 'image-predictions.tsv' programmatically from the Udacity server using the requests library. Then I wrote it to 'image_predictions.tsv'.\n",
    "\n",
    "twitter_data' was created by accessing and downloading JSON data from udacity, I’ve requested access to twitter API and my request was not approved. Firstly, I extracted a list of tweet IDs from the 'twitter-archive-enhanced.csv' file, then went through each ID and queried the Twitter API with the ID to get the JSON data for each tweet. I then saved the data to a text file named 'tweet-json.txt', with the data for each tweet written to a new line. Once the query had been completed and all the data had been written to the text file, I read the text file line by line, obtained the information for each tweet (tweet ID, number of retweets, number of favourites and number of followers) using the json library, and added the information to an empty list.\n",
    "Finally, I converted the dictionary list into a panda DataFrame and saved it in 'twitter_data'.\n"
   ]
  },
  {
   "cell_type": "markdown",
   "id": "bd0bba49",
   "metadata": {},
   "source": [
    "## Assessing and Cleaning "
   ]
  },
  {
   "cell_type": "markdown",
   "id": "7aecdcd4",
   "metadata": {},
   "source": [
    "Several quality and cleanliness problems were identified for all three tables. Further details of the problems identified, and the solutions are in the table below:"
   ]
  },
  {
   "cell_type": "markdown",
   "id": "192457d0",
   "metadata": {},
   "source": [
    "## Quality issue"
   ]
  },
  {
   "cell_type": "code",
   "execution_count": null,
   "id": "37d1e1a9",
   "metadata": {},
   "outputs": [],
   "source": [
    "##Reference : https://stackoverflow.com/questions/64506283/create-a-pandas-table"
   ]
  },
  {
   "cell_type": "markdown",
   "id": "1abe871d",
   "metadata": {},
   "source": [
    "### Twitter archive table"
   ]
  },
  {
   "cell_type": "code",
   "execution_count": null,
   "id": "295f9f2b",
   "metadata": {},
   "outputs": [],
   "source": []
  },
  {
   "cell_type": "code",
   "execution_count": 26,
   "id": "338adcf8",
   "metadata": {},
   "outputs": [
    {
     "data": {
      "text/html": [
       "<div>\n",
       "<style scoped>\n",
       "    .dataframe tbody tr th:only-of-type {\n",
       "        vertical-align: middle;\n",
       "    }\n",
       "\n",
       "    .dataframe tbody tr th {\n",
       "        vertical-align: top;\n",
       "    }\n",
       "\n",
       "    .dataframe thead th {\n",
       "        text-align: right;\n",
       "    }\n",
       "</style>\n",
       "<table border=\"1\" class=\"dataframe\">\n",
       "  <thead>\n",
       "    <tr style=\"text-align: right;\">\n",
       "      <th></th>\n",
       "      <th>ISSUES</th>\n",
       "      <th>SOLUTIONS</th>\n",
       "    </tr>\n",
       "  </thead>\n",
       "  <tbody>\n",
       "    <tr>\n",
       "      <th>0</th>\n",
       "      <td>Keep original ratings that have images</td>\n",
       "      <td>Delete retweets by filtering the NaN of retwee...</td>\n",
       "    </tr>\n",
       "    <tr>\n",
       "      <th>1</th>\n",
       "      <td>Erroneous datatypes in these columns</td>\n",
       "      <td>Convert timestamp to datetime</td>\n",
       "    </tr>\n",
       "    <tr>\n",
       "      <th>2</th>\n",
       "      <td>Missing values in name and dog</td>\n",
       "      <td>Change missing values in dog name to unnamed</td>\n",
       "    </tr>\n",
       "    <tr>\n",
       "      <th>3</th>\n",
       "      <td>Some records have more than on dog stage</td>\n",
       "      <td>Separate the dog stages to know which records ...</td>\n",
       "    </tr>\n",
       "    <tr>\n",
       "      <th>4</th>\n",
       "      <td>Source column is in HTML-formatted string not ...</td>\n",
       "      <td>Extract HTML values from source</td>\n",
       "    </tr>\n",
       "    <tr>\n",
       "      <th>5</th>\n",
       "      <td>Error in dog names</td>\n",
       "      <td>Change error name in dog name to None</td>\n",
       "    </tr>\n",
       "    <tr>\n",
       "      <th>6</th>\n",
       "      <td>Some values in rating_numerator not showing pr...</td>\n",
       "      <td>Spot those records and confirm changes made</td>\n",
       "    </tr>\n",
       "    <tr>\n",
       "      <th>7</th>\n",
       "      <td>Text column includes a text and a short link</td>\n",
       "      <td>Remove hyperlinks in tweets</td>\n",
       "    </tr>\n",
       "  </tbody>\n",
       "</table>\n",
       "</div>"
      ],
      "text/plain": [
       "                                              ISSUES  \\\n",
       "0             Keep original ratings that have images   \n",
       "1              Erroneous datatypes in these columns    \n",
       "2                     Missing values in name and dog   \n",
       "3           Some records have more than on dog stage   \n",
       "4  Source column is in HTML-formatted string not ...   \n",
       "5                                 Error in dog names   \n",
       "6  Some values in rating_numerator not showing pr...   \n",
       "7       Text column includes a text and a short link   \n",
       "\n",
       "                                           SOLUTIONS  \n",
       "0  Delete retweets by filtering the NaN of retwee...  \n",
       "1                      Convert timestamp to datetime  \n",
       "2       Change missing values in dog name to unnamed  \n",
       "3  Separate the dog stages to know which records ...  \n",
       "4                    Extract HTML values from source  \n",
       "5              Change error name in dog name to None  \n",
       "6        Spot those records and confirm changes made  \n",
       "7                        Remove hyperlinks in tweets  "
      ]
     },
     "execution_count": 26,
     "metadata": {},
     "output_type": "execute_result"
    }
   ],
   "source": [
    "import pandas as pd\n",
    ">>> d = {\n",
    "...     'ISSUES': ['Keep original ratings that have images', \n",
    "                   'Erroneous datatypes in these columns ', \n",
    "                   'Missing values in name and dog','Some records have more than on dog stage',\n",
    "'Source column is in HTML-formatted string not a normal string',\n",
    "'Error in dog names',\n",
    "'Some values in rating_numerator not showing proper float values',\n",
    "'Text column includes a text and a short link'],\n",
    "...     'SOLUTIONS': ['Delete retweets by filtering the NaN of retweeted_status_user_id', 'Convert timestamp to datetime', 'Change missing values in dog name to unnamed',\n",
    "                     'Separate the dog stages to know which records have more than one dog stage',\n",
    "'Extract HTML values from source',\n",
    "'Change error name in dog name to None',\n",
    "'Spot those records and confirm changes made',\n",
    "'Remove hyperlinks in tweets']\n",
    "... }\n",
    ">>> df = pd.DataFrame(data=d)\n",
    ">>> df"
   ]
  },
  {
   "cell_type": "markdown",
   "id": "ba7b55e8",
   "metadata": {},
   "source": [
    "#### Image prediction table"
   ]
  },
  {
   "cell_type": "code",
   "execution_count": 40,
   "id": "b2fc56ce",
   "metadata": {},
   "outputs": [
    {
     "data": {
      "text/html": [
       "<div>\n",
       "<style scoped>\n",
       "    .dataframe tbody tr th:only-of-type {\n",
       "        vertical-align: middle;\n",
       "    }\n",
       "\n",
       "    .dataframe tbody tr th {\n",
       "        vertical-align: top;\n",
       "    }\n",
       "\n",
       "    .dataframe thead th {\n",
       "        text-align: right;\n",
       "    }\n",
       "</style>\n",
       "<table border=\"1\" class=\"dataframe\">\n",
       "  <thead>\n",
       "    <tr style=\"text-align: right;\">\n",
       "      <th></th>\n",
       "      <th>ISSUES</th>\n",
       "      <th>SOLUTIONS</th>\n",
       "    </tr>\n",
       "  </thead>\n",
       "  <tbody>\n",
       "    <tr>\n",
       "      <th>0</th>\n",
       "      <td>Erroneous datatype (tweet_id)</td>\n",
       "      <td>Convert tweet id to string</td>\n",
       "    </tr>\n",
       "    <tr>\n",
       "      <th>1</th>\n",
       "      <td>Missing images (only 2075 counts out of possib...</td>\n",
       "      <td>Drop rows with missing images</td>\n",
       "    </tr>\n",
       "  </tbody>\n",
       "</table>\n",
       "</div>"
      ],
      "text/plain": [
       "                                              ISSUES  \\\n",
       "0                      Erroneous datatype (tweet_id)   \n",
       "1  Missing images (only 2075 counts out of possib...   \n",
       "\n",
       "                       SOLUTIONS  \n",
       "0     Convert tweet id to string  \n",
       "1  Drop rows with missing images  "
      ]
     },
     "execution_count": 40,
     "metadata": {},
     "output_type": "execute_result"
    }
   ],
   "source": [
    "import pandas as pd\n",
    ">>> d = {\n",
    "...     'ISSUES': ['Erroneous datatype (tweet_id)', \n",
    "                   'Missing images (only 2075 counts out of possible 2356 '],\n",
    "...     'SOLUTIONS': ['Convert tweet id to string',\n",
    "                      'Drop rows with missing images']\n",
    "... }\n",
    ">>> df = pd.DataFrame(data=d)\n",
    ">>> df"
   ]
  },
  {
   "cell_type": "markdown",
   "id": "9e98b1b2",
   "metadata": {},
   "source": [
    "#### TWITTER API TABLE"
   ]
  },
  {
   "cell_type": "code",
   "execution_count": 44,
   "id": "4563e170",
   "metadata": {
    "scrolled": true
   },
   "outputs": [
    {
     "data": {
      "text/html": [
       "<div>\n",
       "<style scoped>\n",
       "    .dataframe tbody tr th:only-of-type {\n",
       "        vertical-align: middle;\n",
       "    }\n",
       "\n",
       "    .dataframe tbody tr th {\n",
       "        vertical-align: top;\n",
       "    }\n",
       "\n",
       "    .dataframe thead th {\n",
       "        text-align: right;\n",
       "    }\n",
       "</style>\n",
       "<table border=\"1\" class=\"dataframe\">\n",
       "  <thead>\n",
       "    <tr style=\"text-align: right;\">\n",
       "      <th></th>\n",
       "      <th>ISSUES</th>\n",
       "      <th>SOLUTIONS</th>\n",
       "    </tr>\n",
       "  </thead>\n",
       "  <tbody>\n",
       "    <tr>\n",
       "      <th>0</th>\n",
       "      <td>Erroneous datatype (tweet_id)</td>\n",
       "      <td>Convert tweet id to string</td>\n",
       "    </tr>\n",
       "  </tbody>\n",
       "</table>\n",
       "</div>"
      ],
      "text/plain": [
       "                          ISSUES                   SOLUTIONS\n",
       "0  Erroneous datatype (tweet_id)  Convert tweet id to string"
      ]
     },
     "execution_count": 44,
     "metadata": {},
     "output_type": "execute_result"
    }
   ],
   "source": [
    ">>> d = {\n",
    "...     'ISSUES': ['Erroneous datatype (tweet_id)'],\n",
    "...     'SOLUTIONS': ['Convert tweet id to string']\n",
    "... }\n",
    ">>> df = pd.DataFrame(data=d)\n",
    ">>> df"
   ]
  },
  {
   "cell_type": "markdown",
   "id": "44140155",
   "metadata": {},
   "source": [
    "## TIDINESS"
   ]
  },
  {
   "cell_type": "markdown",
   "id": "982ddff1",
   "metadata": {},
   "source": [
    "#### TWITTER ARCHIVE TABLE"
   ]
  },
  {
   "cell_type": "code",
   "execution_count": null,
   "id": "70960ca6",
   "metadata": {},
   "outputs": [],
   "source": [
    "##Differents column to be merged in dog_stage column: doggo, floofer, pupper and puppo "
   ]
  },
  {
   "cell_type": "code",
   "execution_count": 52,
   "id": "0e016e93",
   "metadata": {
    "scrolled": true
   },
   "outputs": [
    {
     "data": {
      "text/html": [
       "<div>\n",
       "<style scoped>\n",
       "    .dataframe tbody tr th:only-of-type {\n",
       "        vertical-align: middle;\n",
       "    }\n",
       "\n",
       "    .dataframe tbody tr th {\n",
       "        vertical-align: top;\n",
       "    }\n",
       "\n",
       "    .dataframe thead th {\n",
       "        text-align: right;\n",
       "    }\n",
       "</style>\n",
       "<table border=\"1\" class=\"dataframe\">\n",
       "  <thead>\n",
       "    <tr style=\"text-align: right;\">\n",
       "      <th></th>\n",
       "      <th>ISSUES</th>\n",
       "      <th>SOLUTIONS</th>\n",
       "    </tr>\n",
       "  </thead>\n",
       "  <tbody>\n",
       "    <tr>\n",
       "      <th>0</th>\n",
       "      <td>different columns in twitter_archive table sho...</td>\n",
       "      <td>Merge columns into one column named \"dog_stage\"</td>\n",
       "    </tr>\n",
       "  </tbody>\n",
       "</table>\n",
       "</div>"
      ],
      "text/plain": [
       "                                              ISSUES  \\\n",
       "0  different columns in twitter_archive table sho...   \n",
       "\n",
       "                                         SOLUTIONS  \n",
       "0  Merge columns into one column named \"dog_stage\"  "
      ]
     },
     "execution_count": 52,
     "metadata": {},
     "output_type": "execute_result"
    }
   ],
   "source": [
    ">>> d = {\n",
    "...     'ISSUES': ['different columns in twitter_archive table should be merged into one column named \"dog_stage\"'],\n",
    "...     'SOLUTIONS': ['Merge columns into one column named \"dog_stage\"']\n",
    "... }\n",
    ">>> df = pd.DataFrame(data=d)\n",
    ">>> df"
   ]
  },
  {
   "cell_type": "markdown",
   "id": "6ff57393",
   "metadata": {},
   "source": [
    "#### TWITTER API TABLE"
   ]
  },
  {
   "cell_type": "code",
   "execution_count": 56,
   "id": "5500fbbc",
   "metadata": {},
   "outputs": [
    {
     "data": {
      "text/html": [
       "<div>\n",
       "<style scoped>\n",
       "    .dataframe tbody tr th:only-of-type {\n",
       "        vertical-align: middle;\n",
       "    }\n",
       "\n",
       "    .dataframe tbody tr th {\n",
       "        vertical-align: top;\n",
       "    }\n",
       "\n",
       "    .dataframe thead th {\n",
       "        text-align: right;\n",
       "    }\n",
       "</style>\n",
       "<table border=\"1\" class=\"dataframe\">\n",
       "  <thead>\n",
       "    <tr style=\"text-align: right;\">\n",
       "      <th></th>\n",
       "      <th>ISSUES</th>\n",
       "      <th>SOLUTIONS</th>\n",
       "    </tr>\n",
       "  </thead>\n",
       "  <tbody>\n",
       "    <tr>\n",
       "      <th>0</th>\n",
       "      <td>twitter api table columns</td>\n",
       "      <td>Merge table with twitter archive table</td>\n",
       "    </tr>\n",
       "  </tbody>\n",
       "</table>\n",
       "</div>"
      ],
      "text/plain": [
       "                      ISSUES                               SOLUTIONS\n",
       "0  twitter api table columns  Merge table with twitter archive table"
      ]
     },
     "execution_count": 56,
     "metadata": {},
     "output_type": "execute_result"
    }
   ],
   "source": [
    ">>> d = {\n",
    "...     'ISSUES': ['twitter api table columns'],\n",
    "...     'SOLUTIONS': ['Merge table with twitter archive table']\n",
    "... }\n",
    ">>> df = pd.DataFrame(data=d)\n",
    ">>> df"
   ]
  },
  {
   "cell_type": "markdown",
   "id": "3a2100bf",
   "metadata": {},
   "source": [
    "#### IMAGE PREDICTION TABLE"
   ]
  },
  {
   "cell_type": "code",
   "execution_count": 54,
   "id": "5a834001",
   "metadata": {},
   "outputs": [
    {
     "data": {
      "text/html": [
       "<div>\n",
       "<style scoped>\n",
       "    .dataframe tbody tr th:only-of-type {\n",
       "        vertical-align: middle;\n",
       "    }\n",
       "\n",
       "    .dataframe tbody tr th {\n",
       "        vertical-align: top;\n",
       "    }\n",
       "\n",
       "    .dataframe thead th {\n",
       "        text-align: right;\n",
       "    }\n",
       "</style>\n",
       "<table border=\"1\" class=\"dataframe\">\n",
       "  <thead>\n",
       "    <tr style=\"text-align: right;\">\n",
       "      <th></th>\n",
       "      <th>ISSUES</th>\n",
       "      <th>SOLUTIONS</th>\n",
       "    </tr>\n",
       "  </thead>\n",
       "  <tbody>\n",
       "    <tr>\n",
       "      <th>0</th>\n",
       "      <td>Image predictions table should be added to twi...</td>\n",
       "      <td>Merge table with twitter archive table</td>\n",
       "    </tr>\n",
       "  </tbody>\n",
       "</table>\n",
       "</div>"
      ],
      "text/plain": [
       "                                              ISSUES  \\\n",
       "0  Image predictions table should be added to twi...   \n",
       "\n",
       "                                SOLUTIONS  \n",
       "0  Merge table with twitter archive table  "
      ]
     },
     "execution_count": 54,
     "metadata": {},
     "output_type": "execute_result"
    }
   ],
   "source": [
    ">>> d = {\n",
    "...     'ISSUES': ['Image predictions table should be added to twitter archive table'],\n",
    "...     'SOLUTIONS': ['Merge table with twitter archive table']\n",
    "... }\n",
    ">>> df = pd.DataFrame(data=d)\n",
    ">>> df\n"
   ]
  },
  {
   "cell_type": "markdown",
   "id": "4f1742ca",
   "metadata": {},
   "source": [
    "## Storing Cleaned Data"
   ]
  },
  {
   "cell_type": "markdown",
   "id": "d2371204",
   "metadata": {},
   "source": [
    "So now the data set is clean and ready for analysis. I saved the main table as twitter_archive_master.csv.\n",
    "\n",
    "Then I began my data analysis."
   ]
  },
  {
   "cell_type": "code",
   "execution_count": null,
   "id": "90e8663f",
   "metadata": {},
   "outputs": [],
   "source": []
  }
 ],
 "metadata": {
  "kernelspec": {
   "display_name": "Python 3 (ipykernel)",
   "language": "python",
   "name": "python3"
  },
  "language_info": {
   "codemirror_mode": {
    "name": "ipython",
    "version": 3
   },
   "file_extension": ".py",
   "mimetype": "text/x-python",
   "name": "python",
   "nbconvert_exporter": "python",
   "pygments_lexer": "ipython3",
   "version": "3.9.7"
  }
 },
 "nbformat": 4,
 "nbformat_minor": 5
}
